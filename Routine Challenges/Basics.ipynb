{
 "cells": [
  {
   "cell_type": "code",
   "execution_count": null,
   "metadata": {},
   "outputs": [],
   "source": [
    "# additional Python packages"
   ]
  },
  {
   "cell_type": "code",
   "execution_count": null,
   "metadata": {},
   "outputs": [
    {
     "name": "stdout",
     "output_type": "stream",
     "text": [
      "Requirement already satisfied: pandas in c:\\users\\robert\\appdata\\local\\r-miniconda\\lib\\site-packages (2.0.3)\n",
      "Requirement already satisfied: pytz>=2020.1 in c:\\users\\robert\\appdata\\local\\r-miniconda\\lib\\site-packages (from pandas) (2024.1)\n",
      "Requirement already satisfied: numpy>=1.20.3 in c:\\users\\robert\\appdata\\local\\r-miniconda\\lib\\site-packages (from pandas) (1.24.4)\n",
      "Requirement already satisfied: tzdata>=2022.1 in c:\\users\\robert\\appdata\\local\\r-miniconda\\lib\\site-packages (from pandas) (2024.1)\n",
      "Requirement already satisfied: python-dateutil>=2.8.2 in c:\\users\\robert\\appdata\\local\\r-miniconda\\lib\\site-packages (from pandas) (2.8.2)\n",
      "Requirement already satisfied: six>=1.5 in c:\\users\\robert\\appdata\\local\\r-miniconda\\lib\\site-packages (from python-dateutil>=2.8.2->pandas) (1.15.0)\n",
      "Requirement already satisfied: scikit-learn in c:\\users\\robert\\appdata\\local\\r-miniconda\\lib\\site-packages (1.3.2)\n",
      "Requirement already satisfied: joblib>=1.1.1 in c:\\users\\robert\\appdata\\local\\r-miniconda\\lib\\site-packages (from scikit-learn) (1.4.2)\n",
      "Requirement already satisfied: scipy>=1.5.0 in c:\\users\\robert\\appdata\\local\\r-miniconda\\lib\\site-packages (from scikit-learn) (1.10.1)\n",
      "Requirement already satisfied: numpy<2.0,>=1.17.3 in c:\\users\\robert\\appdata\\local\\r-miniconda\\lib\\site-packages (from scikit-learn) (1.24.4)\n",
      "Requirement already satisfied: threadpoolctl>=2.0.0 in c:\\users\\robert\\appdata\\local\\r-miniconda\\lib\\site-packages (from scikit-learn) (3.5.0)\n",
      "Requirement already satisfied: matplotlib in c:\\users\\robert\\appdata\\local\\r-miniconda\\lib\\site-packages (3.7.4)\n",
      "Requirement already satisfied: numpy<2,>=1.20 in c:\\users\\robert\\appdata\\local\\r-miniconda\\lib\\site-packages (from matplotlib) (1.24.4)\n",
      "Requirement already satisfied: fonttools>=4.22.0 in c:\\users\\robert\\appdata\\local\\r-miniconda\\lib\\site-packages (from matplotlib) (4.48.1)\n",
      "Requirement already satisfied: contourpy>=1.0.1 in c:\\users\\robert\\appdata\\local\\r-miniconda\\lib\\site-packages (from matplotlib) (1.1.1)\n",
      "Requirement already satisfied: kiwisolver>=1.0.1 in c:\\users\\robert\\appdata\\local\\r-miniconda\\lib\\site-packages (from matplotlib) (1.4.5)\n",
      "Requirement already satisfied: pillow>=6.2.0 in c:\\users\\robert\\appdata\\local\\r-miniconda\\lib\\site-packages (from matplotlib) (10.2.0)\n",
      "Requirement already satisfied: pyparsing>=2.3.1 in c:\\users\\robert\\appdata\\local\\r-miniconda\\lib\\site-packages (from matplotlib) (3.1.1)\n",
      "Requirement already satisfied: importlib-resources>=3.2.0 in c:\\users\\robert\\appdata\\local\\r-miniconda\\lib\\site-packages (from matplotlib) (6.1.1)\n",
      "Requirement already satisfied: cycler>=0.10 in c:\\users\\robert\\appdata\\local\\r-miniconda\\lib\\site-packages (from matplotlib) (0.12.1)\n",
      "Requirement already satisfied: python-dateutil>=2.7 in c:\\users\\robert\\appdata\\local\\r-miniconda\\lib\\site-packages (from matplotlib) (2.8.2)\n",
      "Requirement already satisfied: packaging>=20.0 in c:\\users\\robert\\appdata\\local\\r-miniconda\\lib\\site-packages (from matplotlib) (23.2)\n",
      "Requirement already satisfied: zipp>=3.1.0 in c:\\users\\robert\\appdata\\local\\r-miniconda\\lib\\site-packages (from importlib-resources>=3.2.0->matplotlib) (3.17.0)\n",
      "Requirement already satisfied: six>=1.5 in c:\\users\\robert\\appdata\\local\\r-miniconda\\lib\\site-packages (from python-dateutil>=2.7->matplotlib) (1.15.0)\n",
      "Collecting seaborn\n",
      "  Downloading seaborn-0.13.2-py3-none-any.whl (294 kB)\n",
      "Requirement already satisfied: matplotlib!=3.6.1,>=3.4 in c:\\users\\robert\\appdata\\local\\r-miniconda\\lib\\site-packages (from seaborn) (3.7.4)\n",
      "Requirement already satisfied: numpy!=1.24.0,>=1.20 in c:\\users\\robert\\appdata\\local\\r-miniconda\\lib\\site-packages (from seaborn) (1.24.4)\n",
      "Requirement already satisfied: pandas>=1.2 in c:\\users\\robert\\appdata\\local\\r-miniconda\\lib\\site-packages (from seaborn) (2.0.3)\n",
      "Requirement already satisfied: python-dateutil>=2.7 in c:\\users\\robert\\appdata\\local\\r-miniconda\\lib\\site-packages (from matplotlib!=3.6.1,>=3.4->seaborn) (2.8.2)\n",
      "Requirement already satisfied: pillow>=6.2.0 in c:\\users\\robert\\appdata\\local\\r-miniconda\\lib\\site-packages (from matplotlib!=3.6.1,>=3.4->seaborn) (10.2.0)\n",
      "Requirement already satisfied: packaging>=20.0 in c:\\users\\robert\\appdata\\local\\r-miniconda\\lib\\site-packages (from matplotlib!=3.6.1,>=3.4->seaborn) (23.2)\n",
      "Requirement already satisfied: kiwisolver>=1.0.1 in c:\\users\\robert\\appdata\\local\\r-miniconda\\lib\\site-packages (from matplotlib!=3.6.1,>=3.4->seaborn) (1.4.5)\n",
      "Requirement already satisfied: contourpy>=1.0.1 in c:\\users\\robert\\appdata\\local\\r-miniconda\\lib\\site-packages (from matplotlib!=3.6.1,>=3.4->seaborn) (1.1.1)\n",
      "Requirement already satisfied: fonttools>=4.22.0 in c:\\users\\robert\\appdata\\local\\r-miniconda\\lib\\site-packages (from matplotlib!=3.6.1,>=3.4->seaborn) (4.48.1)\n",
      "Requirement already satisfied: pyparsing>=2.3.1 in c:\\users\\robert\\appdata\\local\\r-miniconda\\lib\\site-packages (from matplotlib!=3.6.1,>=3.4->seaborn) (3.1.1)\n",
      "Requirement already satisfied: cycler>=0.10 in c:\\users\\robert\\appdata\\local\\r-miniconda\\lib\\site-packages (from matplotlib!=3.6.1,>=3.4->seaborn) (0.12.1)\n",
      "Requirement already satisfied: importlib-resources>=3.2.0 in c:\\users\\robert\\appdata\\local\\r-miniconda\\lib\\site-packages (from matplotlib!=3.6.1,>=3.4->seaborn) (6.1.1)\n",
      "Requirement already satisfied: zipp>=3.1.0 in c:\\users\\robert\\appdata\\local\\r-miniconda\\lib\\site-packages (from importlib-resources>=3.2.0->matplotlib!=3.6.1,>=3.4->seaborn) (3.17.0)\n",
      "Requirement already satisfied: tzdata>=2022.1 in c:\\users\\robert\\appdata\\local\\r-miniconda\\lib\\site-packages (from pandas>=1.2->seaborn) (2024.1)\n",
      "Requirement already satisfied: pytz>=2020.1 in c:\\users\\robert\\appdata\\local\\r-miniconda\\lib\\site-packages (from pandas>=1.2->seaborn) (2024.1)\n",
      "Requirement already satisfied: six>=1.5 in c:\\users\\robert\\appdata\\local\\r-miniconda\\lib\\site-packages (from python-dateutil>=2.7->matplotlib!=3.6.1,>=3.4->seaborn) (1.15.0)\n",
      "Installing collected packages: seaborn\n",
      "Successfully installed seaborn-0.13.2\n",
      "Collecting nltk\n",
      "  Downloading nltk-3.9.1-py3-none-any.whl (1.5 MB)\n",
      "Requirement already satisfied: tqdm in c:\\users\\robert\\appdata\\local\\r-miniconda\\lib\\site-packages (from nltk) (4.59.0)\n",
      "Collecting regex>=2021.8.3\n",
      "  Downloading regex-2024.11.6-cp38-cp38-win_amd64.whl (274 kB)\n",
      "Collecting click\n",
      "  Downloading click-8.1.8-py3-none-any.whl (98 kB)\n",
      "Requirement already satisfied: joblib in c:\\users\\robert\\appdata\\local\\r-miniconda\\lib\\site-packages (from nltk) (1.4.2)\n",
      "Requirement already satisfied: colorama in c:\\users\\robert\\appdata\\local\\r-miniconda\\lib\\site-packages (from click->nltk) (0.4.6)\n",
      "Installing collected packages: regex, click, nltk\n",
      "Successfully installed click-8.1.8 nltk-3.9.1 regex-2024.11.6\n",
      "Collecting beautifulsoup4\n",
      "  Downloading beautifulsoup4-4.13.4-py3-none-any.whl (187 kB)\n",
      "Requirement already satisfied: typing-extensions>=4.0.0 in c:\\users\\robert\\appdata\\local\\r-miniconda\\lib\\site-packages (from beautifulsoup4) (4.9.0)\n",
      "Collecting soupsieve>1.2\n",
      "  Downloading soupsieve-2.7-py3-none-any.whl (36 kB)\n",
      "Installing collected packages: soupsieve, beautifulsoup4\n",
      "Successfully installed beautifulsoup4-4.13.4 soupsieve-2.7\n"
     ]
    }
   ],
   "source": [
    "!pip install pandas\n",
    "!pip install scikit-learn\n",
    "!pip install matplotlib\n",
    "!pip install seaborn\n",
    "!pip install nltk"
   ]
  },
  {
   "cell_type": "code",
   "execution_count": 3,
   "metadata": {},
   "outputs": [
    {
     "name": "stdout",
     "output_type": "stream",
     "text": [
      "Requirement already satisfied: beautifulsoup4 in c:\\users\\robert\\appdata\\local\\r-miniconda\\lib\\site-packages (4.13.4)\n",
      "Requirement already satisfied: typing-extensions>=4.0.0 in c:\\users\\robert\\appdata\\local\\r-miniconda\\lib\\site-packages (from beautifulsoup4) (4.9.0)\n",
      "Requirement already satisfied: soupsieve>1.2 in c:\\users\\robert\\appdata\\local\\r-miniconda\\lib\\site-packages (from beautifulsoup4) (2.7)\n",
      "Note: you may need to restart the kernel to use updated packages.\n"
     ]
    }
   ],
   "source": [
    "%pip install beautifulsoup4"
   ]
  },
  {
   "cell_type": "markdown",
   "metadata": {},
   "source": [
    "***"
   ]
  },
  {
   "cell_type": "markdown",
   "metadata": {},
   "source": [
    "# Heading 1\n",
    "## Heading 2\n",
    "### Heading 3\n",
    "#### Heading 4\n",
    "##### Heading 5\n",
    "###### Heading 6"
   ]
  },
  {
   "cell_type": "markdown",
   "metadata": {},
   "source": [
    "***"
   ]
  },
  {
   "cell_type": "markdown",
   "metadata": {},
   "source": [
    "**Strong**\n",
    "__Strong__\n",
    "*Emphasize*\n",
    "_Emphasize_"
   ]
  },
  {
   "cell_type": "markdown",
   "metadata": {},
   "source": [
    "*** "
   ]
  },
  {
   "cell_type": "markdown",
   "metadata": {},
   "source": [
    "* List 1\n",
    "* List 2\n",
    "  * List 2.1\n",
    "  * List 2.2\n",
    "\n",
    "1. Ordered List\n",
    "2. Ordered List 2\n",
    "   1. List\n",
    "   2. List 2"
   ]
  },
  {
   "cell_type": "markdown",
   "metadata": {},
   "source": [
    "***"
   ]
  },
  {
   "cell_type": "markdown",
   "metadata": {},
   "source": [
    "![Earth from Space](https://upload.wikimedia.org/wikipedia/commons/9/97/The_Earth_seen_from_Apollo_17.jpg)"
   ]
  },
  {
   "cell_type": "markdown",
   "metadata": {},
   "source": [
    "***"
   ]
  },
  {
   "cell_type": "markdown",
   "metadata": {},
   "source": [
    "$$\n",
    "\\int_0^\\infty e^{-x^2} dx = \\frac{\\sqrt{\\pi}}{2}\n",
    "$$\n"
   ]
  },
  {
   "cell_type": "markdown",
   "metadata": {},
   "source": []
  }
 ],
 "metadata": {
  "kernelspec": {
   "display_name": "base",
   "language": "python",
   "name": "python3"
  },
  "language_info": {
   "codemirror_mode": {
    "name": "ipython",
    "version": 3
   },
   "file_extension": ".py",
   "mimetype": "text/x-python",
   "name": "python",
   "nbconvert_exporter": "python",
   "pygments_lexer": "ipython3",
   "version": "3.8.5"
  }
 },
 "nbformat": 4,
 "nbformat_minor": 2
}
