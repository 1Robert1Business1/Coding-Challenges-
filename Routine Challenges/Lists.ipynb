{
 "cells": [
  {
   "cell_type": "markdown",
   "metadata": {},
   "source": [
    "# Frida Kahlo Retrospective Off-Platform Project\n",
    "### You’ve been hired to work on a retrospective of Frida Kahlo’s work at a major museum in Mexico.\n",
    "### Your job is to put together the audio tour, but in order to do that, you need to create a list of each painting featured in the exhibit, the date it was painted, and its spot on the tour."
   ]
  },
  {
   "cell_type": "code",
   "execution_count": 3,
   "metadata": {},
   "outputs": [
    {
     "name": "stdout",
     "output_type": "stream",
     "text": [
      "🎧 Frida Kahlo Audio Tour\n",
      "------------------------------\n",
      "1. 'The Two Fridas' (1939)\n",
      "2. 'My Dress Hangs Here' (1933)\n",
      "3. 'Tree of Hope' (1946)\n",
      "4. 'Self Portrait With Monkeys' (1940)\n",
      "5. 'The Broken Column' (1944)\n",
      "6. 'The Wounded Deer' (1946)\n",
      "7. 'Me and My Doll' (1937)\n"
     ]
    }
   ],
   "source": [
    "# List of painting titles\n",
    "paintings = ['The Two Fridas', 'My Dress Hangs Here', 'Tree of Hope', 'Self Portrait With Monkeys']\n",
    "\n",
    "# Corresponding years of creation\n",
    "dates = [1939, 1933, 1946, 1940]\n",
    "\n",
    "# Combine paintings and dates into a list of tuples\n",
    "paintings = list(zip(paintings, dates))\n",
    "\n",
    "# Add three more paintings to the list\n",
    "paintings.append(('The Broken Column', 1944))\n",
    "paintings.append(('The Wounded Deer', 1946))\n",
    "paintings.append(('Me and My Doll', 1937))\n",
    "\n",
    "# Create audio tour numbers starting at 1\n",
    "audio_tour_number = list(range(1, len(paintings) + 1))\n",
    "\n",
    "# Zip audio tour numbers with painting information\n",
    "master_list = list(zip(audio_tour_number, paintings))\n",
    "\n",
    "# Print each entry in a nicely formatted way\n",
    "print(\"🎧 Frida Kahlo Audio Tour\\n\" + \"-\"*30)\n",
    "for number, (title, year) in master_list:\n",
    "    print(f\"{number}. '{title}' ({year})\")"
   ]
  }
 ],
 "metadata": {
  "kernelspec": {
   "display_name": "Python 3",
   "language": "python",
   "name": "python3"
  },
  "language_info": {
   "codemirror_mode": {
    "name": "ipython",
    "version": 3
   },
   "file_extension": ".py",
   "mimetype": "text/x-python",
   "name": "python",
   "nbconvert_exporter": "python",
   "pygments_lexer": "ipython3",
   "version": "3.8.5"
  }
 },
 "nbformat": 4,
 "nbformat_minor": 2
}
