{
 "cells": [
  {
   "cell_type": "markdown",
   "id": "6540b4f9",
   "metadata": {},
   "source": [
    "# Coding Exercise: Decoding a Secret Message\n",
    "## In this exercise, you will write code to solve a problem. Your code must be in either Python or JavaScript—solutions in other languages will not be accepted! You can write your code using any IDE you want.\n",
    "\n",
    "Problem\n",
    "You are given a Google Doc that contains a list of Unicode characters and their positions in a 2D grid. Your task is to write a function that takes in the URL for such a Google Doc as an argument, retrieves and parses the data in the document, and prints the grid of characters. When printed in a fixed-width font, the characters in the grid will form a graphic showing a sequence of uppercase letters, which is the secret message.\n",
    "\n",
    "The minimum possible value of these coordinates is 0. There is no maximum possible value, so the grid can be arbitrarily large.\n",
    "\n",
    "Any positions in the grid that do not have a specified character should be filled with a space character.\n",
    "\n",
    "You can assume the document will always have the same format as the example document linked above.\n",
    "\n",
    "For example, the simplified example document linked above draws out the letter 'F':"
   ]
  },
  {
   "cell_type": "markdown",
   "id": "2a4094c8",
   "metadata": {},
   "source": [
    "***"
   ]
  },
  {
   "cell_type": "markdown",
   "id": "402a116c",
   "metadata": {},
   "source": [
    "Note that the coordinates (0, 0) will always correspond to the same corner of the grid as in this example, so make sure to understand in which directions the x- and y-coordinates increase.\n",
    "\n",
    "Specifications\n",
    "Your code must be written in Python (preferred) or JavaScript.\n",
    "\n",
    "You may use external libraries.\n",
    "\n",
    "You may write helper functions, but there should be one function that:\n",
    "\n",
    "1. Takes in one argument, which is a string containing the URL for the Google Doc with the input data, AND\n",
    "\n",
    "2. When called, prints the grid of characters specified by the input data, displaying a graphic of correctly oriented uppercase letters."
   ]
  },
  {
   "cell_type": "markdown",
   "id": "ff135d1a",
   "metadata": {},
   "source": [
    "***"
   ]
  },
  {
   "cell_type": "code",
   "execution_count": 6,
   "id": "2a5c94ab",
   "metadata": {},
   "outputs": [
    {
     "name": "stdout",
     "output_type": "stream",
     "text": [
      "████████░     ████████░   ██████████░    ███████░     ██░     ██░     ███░    ███░ ██░     ██░\n",
      "██░     ██░ ███░     ███░ ██░          ███░    ██░   ████░   ████░      ██░  ██░   ██░     ██░\n",
      "██░     ██░ ██░       ██░ ██░         ███░           ██░██░ ██░██░       ██░██░    ██░     ██░\n",
      "████████░   ██░       ██░ ████████░   ██░           ███░ ██░██░ ██░       ███░     ██████████░\n",
      "██░     ██░ ██░       ██░ ██░         ███░          ██░  █████░ ███░     ██░██░    ██░     ██░\n",
      "██░     ██░ ███░     ███░ ██░          ███░    ██░ ███░   ███░   ██░    ██░  ██░   ██░     ██░\n",
      "████████░     ████████░   ██████████░    ███████░  ██░           ███░ ███░    ███░ ██░     ██░\n"
     ]
    }
   ],
   "source": [
    "import requests\n",
    "from bs4 import BeautifulSoup\n",
    "\n",
    "def decode_secret_message(doc_url):\n",
    "    response = requests.get(doc_url)\n",
    "    soup = BeautifulSoup(response.text, 'html.parser')\n",
    "\n",
    "    # Find all table rows\n",
    "    rows = soup.find_all('tr')\n",
    "    data = []\n",
    "\n",
    "    for row in rows:\n",
    "        cells = row.find_all('td')\n",
    "        if len(cells) == 3:\n",
    "            try:\n",
    "                x = int(cells[0].get_text(strip=True))\n",
    "                char = cells[1].get_text(strip=True)\n",
    "                y = int(cells[2].get_text(strip=True))\n",
    "                data.append((x, char, y))\n",
    "            except ValueError:\n",
    "                continue  # Skip headers or malformed rows\n",
    "\n",
    "    if not data:\n",
    "        print(\"No valid rows found in the table.\")\n",
    "        return\n",
    "\n",
    "    # Determine grid size\n",
    "    max_x = max(x for x, _, _ in data)\n",
    "    max_y = max(y for _, _, y in data)\n",
    "\n",
    "    # Create and populate the grid\n",
    "    grid = [[' ' for _ in range(max_x + 1)] for _ in range(max_y + 1)]\n",
    "    for x, char, y in data:\n",
    "        grid[y][x] = char\n",
    "\n",
    "    # Print the message\n",
    "    for row in grid:\n",
    "        print(''.join(row))\n",
    "\n",
    "# Example usage\n",
    "url = \"https://docs.google.com/document/d/e/2PACX-1vQGUck9HIFCyezsrBSnmENk5ieJuYwpt7YHYEzeNJkIb9OSDdx-ov2nRNReKQyey-cwJOoEKUhLmN9z/pub\"\n",
    "decode_secret_message(url)\n",
    "\n"
   ]
  },
  {
   "cell_type": "markdown",
   "id": "f2013eac",
   "metadata": {},
   "source": [
    "***"
   ]
  },
  {
   "cell_type": "markdown",
   "id": "5c85a206",
   "metadata": {},
   "source": [
    "# Project Goals\n",
    "You and your pen pal, Vishal, have been exchanging letters for some time now. Recently, he has become interested in cryptography and the two of you have started sending encoded messages within your letters.\n",
    "\n",
    "In this project, you will use your Python skills to decipher the messages you receive and to encode your own responses! Put your programming skills to the test with these fun cryptography puzzles."
   ]
  },
  {
   "cell_type": "markdown",
   "id": "eba07a0b",
   "metadata": {},
   "source": [
    "message = \"Hey there! How have you been? I've been great! I just learned about this really cool type of cipher called a Caesar Cipher. Here's how it works: You take your message, something like \"hello\" and then you shift all of the letters by a certain offset. \n",
    "\n",
    "For example, if I chose an offset of 3 and a message of \"hello\", I would encode my message by shifting each letter 3 places to the left with respect to the alphabet. So \"h\" becomes \"e\", \"e\" becomes \"b\", \"l\" becomes \"i\", and \"o\" becomes \"l\". Then I have my encoded message, \"ebiil\"! Now I can send you my message and the offset and you can decode it by shifting each letter 3 places to the right. The best thing is that Julius Caesar himself used this cipher, that's why it's called the Caesar Cipher! Isn't that so cool! Okay, now I'm going to send you a longer encoded message that you have to decode yourself!"
   ]
  },
  {
   "cell_type": "markdown",
   "id": "672c9e9d",
   "metadata": {},
   "source": [
    "xuo jxuhu! jxyi yi qd unqcfbu ev q squiqh syfxuh. muhu oek qrbu je tusetu yj? y xefu ie! iudt cu q cuiiqwu rqsa myjx jxu iqcu evviuj!"
   ]
  },
  {
   "cell_type": "markdown",
   "id": "7e5d103d",
   "metadata": {},
   "source": [
    "#### Step 1: Decode Vishal's Message"
   ]
  },
  {
   "cell_type": "code",
   "execution_count": null,
   "id": "4fa235b0",
   "metadata": {},
   "outputs": [
    {
     "name": "stdout",
     "output_type": "stream",
     "text": [
      "hey there! this is an example of a caesar cipher. were you able to decode it? i hope so! send me a message back with the same offset!\n"
     ]
    }
   ],
   "source": [
    "alphabet = \"abcdefghijklmnopqrstuvwxyz\"\n",
    "message = \"xuo jxuhu! jxyi yi qd unqcfbu ev q squiqh syfxuh. muhu oek qrbu je tusetu yj? y xefu ie! iudt cu q cuiiqwu rqsa myjx jxu iqcu evviuj!\"\n",
    "translated_message = \"\"\n",
    "\n",
    "for i in message:\n",
    "    if i in alphabet:\n",
    "      # Find the index of the letter\n",
    "      i_value = alphabet.find(i)\n",
    "      # Shift it 10 positions to the right \n",
    "      new_letter = alphabet[(i_value + 10) % 26] \n",
    "      translated_message += new_letter\n",
    "    else:\n",
    "      # Keep punctuation, spaces, etc.\n",
    "      translated_message += i\n",
    "print(translated_message)"
   ]
  },
  {
   "cell_type": "markdown",
   "id": "cd8c115f",
   "metadata": {},
   "source": [
    "#### Step 2: Send Vishal a Coded Message"
   ]
  },
  {
   "cell_type": "code",
   "execution_count": 8,
   "id": "f27a26fa",
   "metadata": {},
   "outputs": [
    {
     "name": "stdout",
     "output_type": "stream",
     "text": [
      "Wxe qhu Yek?\n"
     ]
    }
   ],
   "source": [
    "alphabet = \"abcdefghijklmnopqrstuvwxyz\"\n",
    "my_message = \"Who are You?\"\n",
    "encoded_message = \"\"\n",
    "\n",
    "for i in my_message:\n",
    "    if i in alphabet:\n",
    "      # Find the index of the letter\n",
    "      i_value = alphabet.find(i)\n",
    "      # Shift it 10 positions to the right \n",
    "      new_letter = alphabet[(i_value - 10) % 26] \n",
    "      encoded_message += new_letter\n",
    "    else:\n",
    "      # Keep punctuation, spaces, etc.\n",
    "      encoded_message += i\n",
    "print(encoded_message)"
   ]
  },
  {
   "cell_type": "markdown",
   "id": "4d6b0df5",
   "metadata": {},
   "source": [
    "#### Step 3: Make functions for decoding and coding \n"
   ]
  },
  {
   "cell_type": "code",
   "execution_count": 3,
   "id": "5f382592",
   "metadata": {},
   "outputs": [
    {
     "name": "stdout",
     "output_type": "stream",
     "text": [
      "the offset for the second message is fourteen.\n",
      "performing multiple caesar ciphers to code your messages is even more secure!\n"
     ]
    }
   ],
   "source": [
    "def caesar_decode(message, offset):\n",
    "  decoded_message = \"\"\n",
    "\n",
    "  for i in message:\n",
    "    if i in alphabet:\n",
    "      i_value = alphabet.find(i)\n",
    "      decoded_message += alphabet[(i_value + offset) % 26]\n",
    "    else:\n",
    "      decoded_message += i\n",
    "  return decoded_message\n",
    "\n",
    "def caesar_encode(message, offset):\n",
    "  encoded_message = \"\"\n",
    "\n",
    "  for i in message:\n",
    "    if i in alphabet:\n",
    "      i_value = alphabet.find(i)\n",
    "      encoded_message += alphabet[(i_value - offset) % 26]\n",
    "    else:\n",
    "      encoded_message += i\n",
    "  return encoded_message\n",
    "\n",
    "message_one = \"jxu evviuj veh jxu iusedt cuiiqwu yi vekhjuud.\"\n",
    "\n",
    "# Now we'll print the output of `caeser_decode()` for the first message with an offset of 10\n",
    "print(caesar_decode(message_one, 10))\n",
    "\n",
    "# Now we know what offset to use for the second message, so we use that to solve.\n",
    "message_two = \"bqdradyuzs ygxfubxq omqemd oubtqde fa oapq kagd yqeemsqe ue qhqz yadq eqogdq!\"\n",
    "\n",
    "print(caesar_decode(message_two, 14))\n"
   ]
  },
  {
   "cell_type": "markdown",
   "id": "fa56a0f0",
   "metadata": {},
   "source": [
    "#### Step 4: Solving a Caesar Cipher without knowing the shift value"
   ]
  },
  {
   "cell_type": "code",
   "execution_count": 4,
   "id": "f4a3e428",
   "metadata": {},
   "outputs": [
    {
     "name": "stdout",
     "output_type": "stream",
     "text": [
      "Offset: 1\n",
      "\t wigjonylm bupy lyhxylyx uff iz nbymy ifx wcjbylm um ivmifyny. qy'ff bupy ni lyuffs mnyj oj iol augy cz qy quhn ni eyyj iol gymmuaym muzy.\n",
      "Offset: 2\n",
      "\t xjhkpozmn cvqz mziyzmzy vgg ja ocznz jgy xdkczmn vn jwnjgzoz. rz'gg cvqz oj mzvggt nozk pk jpm bvhz da rz rvio oj fzzk jpm hznnvbzn nvaz.\n",
      "Offset: 3\n",
      "\t ykilqpano dwra najzanaz whh kb pdaoa khz yeldano wo kxokhapa. sa'hh dwra pk nawhhu opal ql kqn cwia eb sa swjp pk gaal kqn iaoowcao owba.\n",
      "Offset: 4\n",
      "\t zljmrqbop exsb obkaboba xii lc qebpb lia zfmebop xp lyplibqb. tb'ii exsb ql obxiiv pqbm rm lro dxjb fc tb txkq ql hbbm lro jbppxdbp pxcb.\n",
      "Offset: 5\n",
      "\t amknsrcpq fytc pclbcpcb yjj md rfcqc mjb agnfcpq yq mzqmjcrc. uc'jj fytc rm pcyjjw qrcn sn msp eykc gd uc uylr rm iccn msp kcqqyecq qydc.\n",
      "Offset: 6\n",
      "\t bnlotsdqr gzud qdmcdqdc zkk ne sgdrd nkc bhogdqr zr narnkdsd. vd'kk gzud sn qdzkkx rsdo to ntq fzld he vd vzms sn jddo ntq ldrrzfdr rzed.\n",
      "Offset: 7\n",
      "\t computers have rendered all of these old ciphers as obsolete. we'll have to really step up our game if we want to keep our messages safe.\n",
      "Offset: 8\n",
      "\t dpnqvufst ibwf sfoefsfe bmm pg uiftf pme djqifst bt pctpmfuf. xf'mm ibwf up sfbmmz tufq vq pvs hbnf jg xf xbou up lffq pvs nfttbhft tbgf.\n",
      "Offset: 9\n",
      "\t eqorwvgtu jcxg tgpfgtgf cnn qh vjgug qnf ekrjgtu cu qduqngvg. yg'nn jcxg vq tgcnna uvgr wr qwt icog kh yg ycpv vq mggr qwt oguucigu uchg.\n",
      "Offset: 10\n",
      "\t frpsxwhuv kdyh uhqghuhg doo ri wkhvh rog flskhuv dv revrohwh. zh'oo kdyh wr uhdoob vwhs xs rxu jdph li zh zdqw wr nhhs rxu phvvdjhv vdih.\n",
      "Offset: 11\n",
      "\t gsqtyxivw lezi virhivih epp sj xliwi sph gmtlivw ew sfwspixi. ai'pp lezi xs vieppc wxit yt syv keqi mj ai aerx xs oiit syv qiwwekiw weji.\n",
      "Offset: 12\n",
      "\t htruzyjwx mfaj wjsijwji fqq tk ymjxj tqi hnumjwx fx tgxtqjyj. bj'qq mfaj yt wjfqqd xyju zu tzw lfrj nk bj bfsy yt pjju tzw rjxxfljx xfkj.\n",
      "Offset: 13\n",
      "\t iusvazkxy ngbk xktjkxkj grr ul znkyk urj iovnkxy gy uhyurkzk. ck'rr ngbk zu xkgrre yzkv av uax mgsk ol ck cgtz zu qkkv uax skyygmky yglk.\n",
      "Offset: 14\n",
      "\t jvtwbalyz ohcl yluklylk hss vm aolzl vsk jpwolyz hz vizvslal. dl'ss ohcl av ylhssf zalw bw vby nhtl pm dl dhua av rllw vby tlzzhnlz zhml.\n",
      "Offset: 15\n",
      "\t kwuxcbmza pidm zmvlmzml itt wn bpmam wtl kqxpmza ia wjawtmbm. em'tt pidm bw zmittg abmx cx wcz oium qn em eivb bw smmx wcz umaaioma ainm.\n",
      "Offset: 16\n",
      "\t lxvydcnab qjen anwmnanm juu xo cqnbn xum lryqnab jb xkbxuncn. fn'uu qjen cx anjuuh bcny dy xda pjvn ro fn fjwc cx tnny xda vnbbjpnb bjon.\n",
      "Offset: 17\n",
      "\t mywzedobc rkfo boxnobon kvv yp droco yvn mszrobc kc ylcyvodo. go'vv rkfo dy bokvvi cdoz ez yeb qkwo sp go gkxd dy uooz yeb wocckqoc ckpo.\n",
      "Offset: 18\n",
      "\t nzxafepcd slgp cpyopcpo lww zq espdp zwo ntaspcd ld zmdzwpep. hp'ww slgp ez cplwwj depa fa zfc rlxp tq hp hlye ez vppa zfc xpddlrpd dlqp.\n",
      "Offset: 19\n",
      "\t oaybgfqde tmhq dqzpqdqp mxx ar ftqeq axp oubtqde me aneaxqfq. iq'xx tmhq fa dqmxxk efqb gb agd smyq ur iq imzf fa wqqb agd yqeemsqe emrq.\n",
      "Offset: 20\n",
      "\t pbzchgref unir eraqrerq nyy bs gurfr byq pvcuref nf bofbyrgr. jr'yy unir gb ernyyl fgrc hc bhe tnzr vs jr jnag gb xrrc bhe zrffntrf fnsr.\n",
      "Offset: 21\n",
      "\t qcadihsfg vojs fsbrsfsr ozz ct hvsgs czr qwdvsfg og cpgczshs. ks'zz vojs hc fsozzm ghsd id cif uoas wt ks kobh hc yssd cif asggousg gots.\n",
      "Offset: 22\n",
      "\t rdbejitgh wpkt gtcstgts paa du iwtht das rxewtgh ph dqhdatit. lt'aa wpkt id gtpaan hite je djg vpbt xu lt lpci id ztte djg bthhpvth hput.\n",
      "Offset: 23\n",
      "\t secfkjuhi xqlu hudtuhut qbb ev jxuiu ebt syfxuhi qi eriebuju. mu'bb xqlu je huqbbo ijuf kf ekh wqcu yv mu mqdj je auuf ekh cuiiqwui iqvu.\n",
      "Offset: 24\n",
      "\t tfdglkvij yrmv iveuvivu rcc fw kyvjv fcu tzgyvij rj fsjfcvkv. nv'cc yrmv kf ivrccp jkvg lg fli xrdv zw nv nrek kf bvvg fli dvjjrxvj jrwv.\n",
      "Offset: 25\n",
      "\t ugehmlwjk zsnw jwfvwjwv sdd gx lzwkw gdv uahzwjk sk gtkgdwlw. ow'dd zsnw lg jwsddq klwh mh gmj ysew ax ow osfl lg cwwh gmj ewkksywk ksxw.\n"
     ]
    }
   ],
   "source": [
    "brute_force_message = \"vhfinmxkl atox kxgwxkxw tee hy maxlx hew vbiaxkl tl hulhexmx. px'ee atox mh kxteer lmxi ni hnk ztfx by px ptgm mh dxxi hnk fxlltzxl ltyx.\"\n",
    "\n",
    "for i in range(1, 26):\n",
    "  print(\"Offset: {}\".format(i))\n",
    "  print(\"\\t {}\".format(caesar_decode(brute_force_message, i)))"
   ]
  },
  {
   "cell_type": "markdown",
   "id": "51e9a898",
   "metadata": {},
   "source": [
    "#### Step 5: The Vigenère Cipher\n",
    "The Vigenère Cipher is a polyalphabetic substitution cipher, as opposed to the Caesar Cipher which was a monoalphabetic substitution cipher. What this means is that opposed to having a single shift that is applied to every letter, the Vigenère Cipher has a different shift for each individual letter. The value of the shift for each letter is determined by a given keyword."
   ]
  },
  {
   "cell_type": "code",
   "execution_count": 6,
   "id": "a9f94a31",
   "metadata": {},
   "outputs": [
    {
     "name": "stdout",
     "output_type": "stream",
     "text": [
      "you were able to decode this? nice work! you are becoming quite the expert at crytography!\n"
     ]
    }
   ],
   "source": [
    "def vigenere_decode(message, keyword):\n",
    "  keyword_phrase = \"\"\n",
    "  keyword_index = 0\n",
    "\n",
    "  for character in message:\n",
    "    if keyword_index >= len(keyword):\n",
    "      keyword_index = 0\n",
    "    if character in alphabet:\n",
    "      keyword_phrase += keyword[keyword_index]\n",
    "      keyword_index += 1\n",
    "    else:\n",
    "      keyword_phrase += character\n",
    "\n",
    "  decoded_message = \"\"\n",
    "\n",
    "  for i in range(len(message)):\n",
    "    if message[i] in alphabet:\n",
    "      old_character_index = alphabet.find(message[i])\n",
    "      offset_index = alphabet.find(keyword_phrase[i])\n",
    "      new_character = alphabet[(old_character_index + offset_index) % 26]\n",
    "      decoded_message += new_character\n",
    "    else:\n",
    "      decoded_message += message[i]\n",
    "    \n",
    "  return decoded_message\n",
    "\n",
    "vigenere_message = \"txm srom vkda gl lzlgzr qpdb? fepb ejac! ubr imn tapludwy mhfbz cza ruxzal wg zztcgcexxch!\"\n",
    "vigenere_keyword = \"friends\"\n",
    "\n",
    "print(vigenere_decode(vigenere_message, vigenere_keyword))"
   ]
  },
  {
   "cell_type": "markdown",
   "id": "627dffe5",
   "metadata": {},
   "source": [
    "#### Step 6: Send a message with the  Vigenère Cipher"
   ]
  },
  {
   "cell_type": "code",
   "execution_count": 7,
   "id": "c2941a1d",
   "metadata": {},
   "outputs": [
    {
     "name": "stdout",
     "output_type": "stream",
     "text": [
      "sdiuco nnn blsyphjo tw wtk pplka knkt jalpdna! fgq zdwtsq wzd ppl taas!\n",
      "thanks for teaching me all these cool ciphers! you really are the best!\n"
     ]
    }
   ],
   "source": [
    "def vigenere_encode(message, keyword):\n",
    "  keyword_phrase = \"\"\n",
    "  keyword_index = 0\n",
    "\n",
    "  for character in message:\n",
    "    if keyword_index >= len(keyword):\n",
    "      keyword_index = 0\n",
    "    if character in alphabet:\n",
    "      keyword_phrase += keyword[keyword_index]\n",
    "      keyword_index += 1\n",
    "    else:\n",
    "      keyword_phrase += character\n",
    "\n",
    "  encoded_message = \"\"\n",
    "\n",
    "  for i in range(len(message)):\n",
    "    if message[i] in alphabet:\n",
    "      old_character_index = alphabet.find(message[i])\n",
    "      offset_index = alphabet.find(keyword_phrase[i])\n",
    "      new_character = alphabet[(old_character_index - offset_index) % 26]\n",
    "      encoded_message += new_character\n",
    "    else:\n",
    "      encoded_message += message[i]\n",
    "    \n",
    "  return encoded_message\n",
    "\n",
    "vigenere_message_for_v = \"thanks for teaching me all these cool ciphers! you really are the best!\"\n",
    "keyword_for_v = \"besties\"\n",
    "\n",
    "print(vigenere_encode(vigenere_message_for_v, keyword_for_v))\n",
    "print(vigenere_decode(vigenere_encode(vigenere_message_for_v, keyword_for_v), keyword_for_v))"
   ]
  }
 ],
 "metadata": {
  "kernelspec": {
   "display_name": "Python 3",
   "language": "python",
   "name": "python3"
  },
  "language_info": {
   "codemirror_mode": {
    "name": "ipython",
    "version": 3
   },
   "file_extension": ".py",
   "mimetype": "text/x-python",
   "name": "python",
   "nbconvert_exporter": "python",
   "pygments_lexer": "ipython3",
   "version": "3.8.5"
  }
 },
 "nbformat": 4,
 "nbformat_minor": 5
}
